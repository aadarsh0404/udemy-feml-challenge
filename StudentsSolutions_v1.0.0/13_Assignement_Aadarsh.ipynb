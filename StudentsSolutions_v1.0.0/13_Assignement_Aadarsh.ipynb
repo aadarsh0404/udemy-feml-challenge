{
  "cells": [
    {
      "cell_type": "markdown",
      "metadata": {
        "id": "x_pvo-sayf4L"
      },
      "source": [
        "## Assignment:\n",
        "\n",
        "Beat the performance of my Lasso regression by **using different feature engineering steps ONLY!!**.\n",
        "\n",
        "The performance of my current model, as shown in this notebook is:\n",
        "\n",
        "- test mse: 1063016789.3316755\n",
        "- test rmse: 32603.938248801718\n",
        "- test r2: 0.8453144708738004\n",
        "\n",
        "To beat my model you will need a test r2 bigger than 0.85 and a rmse smaller than 32603.\n",
        "\n",
        "\n",
        "=====================================================================================================\n",
        "\n",
        "\n",
        "### Conditions:\n",
        "\n",
        "- You MUST NOT change the hyperparameters of the Lasso.\n",
        "- You MUST use the same seeds in Lasso and train_test_split as I show in this notebook (random_state)\n",
        "- You MUST use all the features of the dataset (except Id) - you MUST NOT select features\n",
        "\n",
        "\n",
        "=====================================================================================================\n",
        "\n",
        "\n",
        "### If you beat my model:\n",
        "\n",
        "Make a pull request with your notebook to this github repo:\n",
        "https://github.com/solegalli/udemy-feml-challenge\n",
        "\n",
        "And add your notebook to the folder:\n",
        "\n",
        "-StudentsSolutions_v1.0.0\n",
        "\n",
        "### How to make the PR\n",
        "\n",
        "1) fork the repo:\n",
        "\n",
        "Go to https://github.com/solegalli/udemy-feml-challenge, and click on the **fork** button at the top-right\n",
        "\n",
        "2) clone your forked repo into your local computer:\n",
        "\n",
        "- Go to www.github.com/yourusername/udemy-feml-challenge\n",
        "- Click the green button that says clone or download\n",
        "- copy the url that opens up\n",
        "- power up a git console\n",
        "- type: git clone (paste the url you copied from github)\n",
        "- done\n",
        "\n",
        "3) Make a copy of the jupyter notebook and add your name:\n",
        "\n",
        "- Open up the Jupyter notebook called 13-Assignement.ipynb\n",
        "- Click the \"File\" button at the top-right and then click \"Make a copy\"\n",
        "- **Work your solution in the Copy** and not in the original assignment (otherwise there will be conflicts when making the PR)\n",
        "- Change the name of the copy of the notebook to: 13-Assignement_yourname.ipynb\n",
        "- Move the notebook to the folder **StudentsSolutions_v1.0.0**\n",
        "- done\n",
        "\n",
        "When you finish, just commit the new notebook to your fork and then make a PR to my repo.\n",
        "\n",
        "- git add StudentsSolutions_v1.0.0/13-Assignement_yourname.ipynb\n",
        "- git commit -m \"your commit message\"\n",
        "- git push origin master or git push origin yourfeaturebranch\n",
        "- go to your repo and make a pull request.\n",
        "\n",
        "\n",
        "## But i have a notebook ready and I haven't cloned the repo yet, how can I make the PR?\n",
        "\n",
        "If you worked in the copy you downloaded from Udemy before forking and cloning this repo, then follow this steps:\n",
        "\n",
        "1) fork the repo:\n",
        "\n",
        "Go to https://github.com/solegalli/udemy-feml-challenge, and click on the fork button at the top-right\n",
        "\n",
        "2) clone your forked repo into your local computer:\n",
        "\n",
        "Go to www.github.com/yourusername/udemy-feml-challenge\n",
        "\n",
        "- Click the green button that says clone or download\n",
        "- Copy the url that opens up\n",
        "- Power up a git console\n",
        "- Type: git clone (paste the url you copied from github)\n",
        "- Done\n",
        "\n",
        "3) Rename your solution as follows and copy it into your cloned repo:\n",
        "\n",
        "- Rename your solution notebook to: 13-Assignement_yourname.ipynb\n",
        "- Copy this file into the cloned repo, inside the folder **StudentsSolutions_v1.0.0**\n",
        "- Done\n",
        "\n",
        "When you finish, just commit the new notebook to your fork and then make a PR to my repo\n",
        "\n",
        "- git add StudentsSolutions_v1.0.0/13-Assignement_yourname.ipynb\n",
        "- git commit -m \"your commit message\"\n",
        "- git push origin master or git push origin yourfeaturebranch\n",
        "- go to your repo and make a pull request.\n",
        "\n",
        "**Good luck!!**"
      ]
    },
    {
      "cell_type": "markdown",
      "metadata": {
        "id": "gLh5T8H0yf4R"
      },
      "source": [
        "## House Prices dataset"
      ]
    },
    {
      "cell_type": "code",
      "source": [
        "!pip install feature-engine"
      ],
      "metadata": {
        "colab": {
          "base_uri": "https://localhost:8080/"
        },
        "id": "gPmODupDym2g",
        "outputId": "d33f52a7-d3c5-4e5e-abbe-09fdd147a01c"
      },
      "execution_count": 1,
      "outputs": [
        {
          "output_type": "stream",
          "name": "stdout",
          "text": [
            "Collecting feature-engine\n",
            "  Downloading feature_engine-1.2.0-py2.py3-none-any.whl (205 kB)\n",
            "\u001b[K     |████████████████████████████████| 205 kB 7.7 MB/s \n",
            "\u001b[?25hRequirement already satisfied: scikit-learn>=0.22.2 in /usr/local/lib/python3.7/dist-packages (from feature-engine) (1.0.2)\n",
            "Requirement already satisfied: scipy>=1.4.1 in /usr/local/lib/python3.7/dist-packages (from feature-engine) (1.4.1)\n",
            "Collecting statsmodels>=0.11.1\n",
            "  Downloading statsmodels-0.13.2-cp37-cp37m-manylinux_2_17_x86_64.manylinux2014_x86_64.whl (9.8 MB)\n",
            "\u001b[K     |████████████████████████████████| 9.8 MB 40.4 MB/s \n",
            "\u001b[?25hRequirement already satisfied: pandas>=1.0.3 in /usr/local/lib/python3.7/dist-packages (from feature-engine) (1.3.5)\n",
            "Requirement already satisfied: numpy>=1.18.2 in /usr/local/lib/python3.7/dist-packages (from feature-engine) (1.21.6)\n",
            "Requirement already satisfied: python-dateutil>=2.7.3 in /usr/local/lib/python3.7/dist-packages (from pandas>=1.0.3->feature-engine) (2.8.2)\n",
            "Requirement already satisfied: pytz>=2017.3 in /usr/local/lib/python3.7/dist-packages (from pandas>=1.0.3->feature-engine) (2022.1)\n",
            "Requirement already satisfied: six>=1.5 in /usr/local/lib/python3.7/dist-packages (from python-dateutil>=2.7.3->pandas>=1.0.3->feature-engine) (1.15.0)\n",
            "Requirement already satisfied: threadpoolctl>=2.0.0 in /usr/local/lib/python3.7/dist-packages (from scikit-learn>=0.22.2->feature-engine) (3.1.0)\n",
            "Requirement already satisfied: joblib>=0.11 in /usr/local/lib/python3.7/dist-packages (from scikit-learn>=0.22.2->feature-engine) (1.1.0)\n",
            "Requirement already satisfied: patsy>=0.5.2 in /usr/local/lib/python3.7/dist-packages (from statsmodels>=0.11.1->feature-engine) (0.5.2)\n",
            "Requirement already satisfied: packaging>=21.3 in /usr/local/lib/python3.7/dist-packages (from statsmodels>=0.11.1->feature-engine) (21.3)\n",
            "Requirement already satisfied: pyparsing!=3.0.5,>=2.0.2 in /usr/local/lib/python3.7/dist-packages (from packaging>=21.3->statsmodels>=0.11.1->feature-engine) (3.0.8)\n",
            "Installing collected packages: statsmodels, feature-engine\n",
            "  Attempting uninstall: statsmodels\n",
            "    Found existing installation: statsmodels 0.10.2\n",
            "    Uninstalling statsmodels-0.10.2:\n",
            "      Successfully uninstalled statsmodels-0.10.2\n",
            "Successfully installed feature-engine-1.2.0 statsmodels-0.13.2\n"
          ]
        }
      ]
    },
    {
      "cell_type": "code",
      "execution_count": 37,
      "metadata": {
        "id": "FrZsX1rByf4S"
      },
      "outputs": [],
      "source": [
        "import pandas as pd\n",
        "import numpy as np\n",
        "import matplotlib.pyplot as plt\n",
        "\n",
        "# for the model\n",
        "from sklearn.model_selection import train_test_split\n",
        "from sklearn.linear_model import Lasso\n",
        "from sklearn.pipeline import Pipeline\n",
        "from sklearn.metrics import mean_squared_error, r2_score\n",
        "\n",
        "# for feature engineering\n",
        "from sklearn.preprocessing import StandardScaler\n",
        "from feature_engine import imputation as mdi\n",
        "from feature_engine import discretisation as dsc\n",
        "from feature_engine import encoding as ce"
      ]
    },
    {
      "cell_type": "markdown",
      "metadata": {
        "id": "wqFuZ3KHyf4T"
      },
      "source": [
        "### Load Datasets"
      ]
    },
    {
      "cell_type": "code",
      "execution_count": 38,
      "metadata": {
        "id": "L6gy0Nr0yf4U"
      },
      "outputs": [],
      "source": [
        "# load dataset\n",
        "\n",
        "data = pd.read_csv('houseprice.csv')"
      ]
    },
    {
      "cell_type": "code",
      "execution_count": 39,
      "metadata": {
        "colab": {
          "base_uri": "https://localhost:8080/"
        },
        "id": "ucU3_zG_yf4U",
        "outputId": "51af8326-2143-468f-95d0-e6c466812ab3"
      },
      "outputs": [
        {
          "output_type": "stream",
          "name": "stdout",
          "text": [
            "There are 18 continuous variables\n",
            "There are 14 discrete variables\n",
            "There are 4 temporal variables\n",
            "There are 43 categorical variables\n"
          ]
        }
      ],
      "source": [
        "# make lists of variable types\n",
        "\n",
        "categorical = [var for var in data.columns if data[var].dtype == 'O']\n",
        "\n",
        "year_vars = [var for var in data.columns if 'Yr' in var or 'Year' in var]\n",
        "\n",
        "discrete = [\n",
        "    var for var in data.columns if data[var].dtype != 'O'\n",
        "    and len(data[var].unique()) < 20 and var not in year_vars\n",
        "]\n",
        "\n",
        "numerical = [\n",
        "    var for var in data.columns if data[var].dtype != 'O'\n",
        "    if var not in discrete and var not in ['Id', 'SalePrice']\n",
        "    and var not in year_vars\n",
        "]\n",
        "\n",
        "print('There are {} continuous variables'.format(len(numerical)))\n",
        "print('There are {} discrete variables'.format(len(discrete)))\n",
        "print('There are {} temporal variables'.format(len(year_vars)))\n",
        "print('There are {} categorical variables'.format(len(categorical)))"
      ]
    },
    {
      "cell_type": "markdown",
      "metadata": {
        "id": "p9qVpGZcyf4V"
      },
      "source": [
        "### Separate train and test set"
      ]
    },
    {
      "cell_type": "code",
      "execution_count": 40,
      "metadata": {
        "id": "CYdml-ypyf4W"
      },
      "outputs": [],
      "source": [
        "# IMPORTANT: keep the random_state to zero for reproducibility\n",
        "# Let's separate into train and test set\n",
        "\n",
        "X_train, X_test, y_train, y_test = train_test_split(data.drop(\n",
        "    ['Id', 'SalePrice'], axis=1),\n",
        "    data['SalePrice'],\n",
        "    test_size=0.1,\n",
        "    random_state=0)"
      ]
    },
    {
      "cell_type": "code",
      "execution_count": 41,
      "metadata": {
        "id": "Wk8YR0rnyf4W"
      },
      "outputs": [],
      "source": [
        "# calculate elapsed time\n",
        "\n",
        "def elapsed_years(df, var):\n",
        "    # capture difference between year variable and\n",
        "    # year the house was sold\n",
        "    \n",
        "    df[var] = df['YrSold'] - df[var]\n",
        "    return df\n",
        "\n",
        "for var in ['YearBuilt', 'YearRemodAdd', 'GarageYrBlt']:\n",
        "    X_train = elapsed_years(X_train, var)\n",
        "    X_test = elapsed_years(X_test, var)"
      ]
    },
    {
      "cell_type": "code",
      "execution_count": 42,
      "metadata": {
        "id": "lqIkbUKhyf4X"
      },
      "outputs": [],
      "source": [
        "# drop YrSold\n",
        "X_train.drop('YrSold', axis=1, inplace=True)\n",
        "X_test.drop('YrSold', axis=1, inplace=True)"
      ]
    },
    {
      "cell_type": "code",
      "execution_count": 43,
      "metadata": {
        "id": "DZrAdCkdyf4X"
      },
      "outputs": [],
      "source": [
        "# capture the column names for use later in the notebook\n",
        "final_columns = X_train.columns"
      ]
    },
    {
      "cell_type": "markdown",
      "metadata": {
        "id": "v3sXItIuyf4Y"
      },
      "source": [
        "## Feature Engineering Pipeline"
      ]
    },
    {
      "cell_type": "code",
      "execution_count": 44,
      "metadata": {
        "id": "03tI7FLhyf4Y"
      },
      "outputs": [],
      "source": [
        "# I will treat discrete variables as if they were categorical\n",
        "# to treat discrete as categorical using Feature-engine\n",
        "# we need to re-cast them as object\n",
        "\n",
        "X_train[discrete] = X_train[discrete].astype('O')\n",
        "X_test[discrete] = X_test[discrete].astype('O')"
      ]
    },
    {
      "cell_type": "code",
      "execution_count": 45,
      "metadata": {
        "id": "ue7GJREPyf4Y"
      },
      "outputs": [],
      "source": [
        "house_pipe1 = Pipeline([\n",
        "\n",
        "    # missing data imputation - section 4\n",
        "    ('missing_ind',\n",
        "     mdi.AddMissingIndicator(\n",
        "         variables=['LotFrontage', 'MasVnrArea', 'GarageYrBlt'])),\n",
        "\n",
        "    ('imputer_num',\n",
        "     mdi.RandomSampleImputer(\n",
        "         variables=['LotFrontage', 'MasVnrArea', 'GarageYrBlt'])),\n",
        "\n",
        "    ('imputer_cat', mdi.CategoricalImputer(variables=categorical)),\n",
        "\n",
        "\n",
        "    # categorical encoding - section 6\n",
        "    ('rare_label_enc',\n",
        "     ce.RareLabelEncoder(tol=0.01, n_categories=1, variables=categorical + discrete)),\n",
        "\n",
        "    # newly available categorical encoder, uses trees predictions\n",
        "    ('categorical_enc',\n",
        "     ce.DecisionTreeEncoder(random_state=2909, variables=categorical + discrete)),\n",
        "\n",
        "    # discretisation - section 8\n",
        "    ('discretisation',\n",
        "     dsc.DecisionTreeDiscretiser(random_state=2909, variables=numerical)),\n",
        "\n",
        "    # feature Scaling - section 10\n",
        "    ('scaler', StandardScaler()),\n",
        "\n",
        "    # regression\n",
        "    ('lasso', Lasso(random_state=0))\n",
        "])"
      ]
    },
    {
      "cell_type": "code",
      "source": [
        "house_pipe2 = Pipeline([\n",
        "\n",
        "    # missing data imputation - section 4\n",
        "    ('missing_ind',\n",
        "     mdi.AddMissingIndicator(\n",
        "         variables=['LotFrontage', 'MasVnrArea', 'GarageYrBlt'])),\n",
        "\n",
        "    ('imputer_num',\n",
        "     mdi.MeanMedianImputer(imputation_method='median',\n",
        "         variables=['LotFrontage', 'MasVnrArea', 'GarageYrBlt'])),\n",
        "\n",
        "    ('imputer_cat', mdi.CategoricalImputer(variables=categorical)),\n",
        "\n",
        "\n",
        "    # categorical encoding - section 6\n",
        "    ('rare_label_enc',\n",
        "     ce.RareLabelEncoder(tol=0.01, n_categories=1, variables=categorical + discrete)),\n",
        "\n",
        "    # newly available categorical encoder, uses trees predictions\n",
        "    ('categorical_enc',\n",
        "     ce.DecisionTreeEncoder(random_state=2909, variables=categorical + discrete)),\n",
        "\n",
        "    # discretisation - section 8\n",
        "    ('discretisation',\n",
        "     dsc.DecisionTreeDiscretiser(random_state=2909, variables=numerical)),\n",
        "\n",
        "    # feature Scaling - section 10\n",
        "    ('scaler', StandardScaler()),\n",
        "\n",
        "    # regression\n",
        "    ('lasso', Lasso(random_state=0))\n",
        "])"
      ],
      "metadata": {
        "id": "zxvCAU7S3uBL"
      },
      "execution_count": 46,
      "outputs": []
    },
    {
      "cell_type": "code",
      "execution_count": 49,
      "metadata": {
        "colab": {
          "base_uri": "https://localhost:8080/"
        },
        "id": "n6JGgosRyf4Z",
        "outputId": "fbec0388-12af-4b58-e987-e0ade1c2a88c"
      },
      "outputs": [
        {
          "output_type": "stream",
          "name": "stdout",
          "text": [
            "train mse: 591265658.3715141\n",
            "train rmse: 24315.954811018917\n",
            "train r2: 0.9053040392407793\n",
            "\n",
            "test mse: 919299393.502303\n",
            "test rmse: 30319.950420511956\n",
            "test r2: 0.8662275943932161\n"
          ]
        }
      ],
      "source": [
        "# let's fit the 1st pipeline \n",
        "house_pipe1.fit(X_train, y_train)\n",
        "\n",
        "# let's get the predictions\n",
        "X_train_preds = house_pipe1.predict(X_train)\n",
        "X_test_preds = house_pipe1.predict(X_test)\n",
        "\n",
        "# check model performance:\n",
        "\n",
        "print('train mse: {}'.format(mean_squared_error(y_train, X_train_preds, squared=True)))\n",
        "print('train rmse: {}'.format(mean_squared_error(y_train, X_train_preds, squared=False)))\n",
        "print('train r2: {}'.format(r2_score(y_train, X_train_preds)))\n",
        "print()\n",
        "print('test mse: {}'.format(mean_squared_error(y_test, X_test_preds,squared=True)))\n",
        "print('test rmse: {}'.format(mean_squared_error(y_test, X_test_preds, squared=False)))\n",
        "print('test r2: {}'.format(r2_score(y_test, X_test_preds)))"
      ]
    },
    {
      "cell_type": "code",
      "source": [
        "# let's fit the 2nd pipeline\n",
        "house_pipe2.fit(X_train, y_train)\n",
        "\n",
        "# let's get the predictions\n",
        "X_train_preds = house_pipe2.predict(X_train)\n",
        "X_test_preds = house_pipe2.predict(X_test)\n",
        "\n",
        "# check model performance:\n",
        "\n",
        "print('train mse: {}'.format(mean_squared_error(y_train, X_train_preds, squared=True)))\n",
        "print('train rmse: {}'.format(mean_squared_error(y_train, X_train_preds, squared=False)))\n",
        "print('train r2: {}'.format(r2_score(y_train, X_train_preds)))\n",
        "print()\n",
        "print('test mse: {}'.format(mean_squared_error(y_test, X_test_preds,squared=True)))\n",
        "print('test rmse: {}'.format(mean_squared_error(y_test, X_test_preds, squared=False)))\n",
        "print('test r2: {}'.format(r2_score(y_test, X_test_preds)))"
      ],
      "metadata": {
        "colab": {
          "base_uri": "https://localhost:8080/"
        },
        "id": "VmOdh7K_4P0h",
        "outputId": "ab9eb652-97d3-4dc9-c403-cb3e7bc59cd1"
      },
      "execution_count": 50,
      "outputs": [
        {
          "output_type": "stream",
          "name": "stdout",
          "text": [
            "train mse: 589851625.6986735\n",
            "train rmse: 24286.861174278438\n",
            "train r2: 0.9055305079703659\n",
            "\n",
            "test mse: 923125269.4375038\n",
            "test rmse: 30382.97663885986\n",
            "test r2: 0.8656708697494032\n"
          ]
        }
      ]
    },
    {
      "cell_type": "code",
      "execution_count": 51,
      "metadata": {
        "colab": {
          "base_uri": "https://localhost:8080/",
          "height": 296
        },
        "id": "IJc-w1oiyf4Z",
        "outputId": "52279b83-6581-4500-ac56-9e15a4722d25"
      },
      "outputs": [
        {
          "output_type": "execute_result",
          "data": {
            "text/plain": [
              "Text(0, 0.5, 'Predicted Price')"
            ]
          },
          "metadata": {},
          "execution_count": 51
        },
        {
          "output_type": "display_data",
          "data": {
            "text/plain": [
              "<Figure size 432x288 with 1 Axes>"
            ],
            "image/png": "[encoded data removed]"
          },
          "metadata": {
            "needs_background": "light"
          }
        }
      ],
      "source": [
        "# plot predictions vs real value\n",
        "\n",
        "plt.scatter(y_test,X_test_preds)\n",
        "plt.xlabel('True Price')\n",
        "plt.ylabel('Predicted Price')"
      ]
    },
    {
      "cell_type": "code",
      "execution_count": 34,
      "metadata": {
        "colab": {
          "base_uri": "https://localhost:8080/",
          "height": 294
        },
        "id": "yalbArl8yf4Z",
        "outputId": "f3d505fc-0aaf-4347-91f2-420a51972d34"
      },
      "outputs": [
        {
          "output_type": "execute_result",
          "data": {
            "text/plain": [
              "<matplotlib.axes._subplots.AxesSubplot at 0x7f32842f6ed0>"
            ]
          },
          "metadata": {},
          "execution_count": 34
        },
        {
          "output_type": "display_data",
          "data": {
            "text/plain": [
              "<Figure size 1296x432 with 1 Axes>"
            ],
            "image/png": "[encoded data removed]"
          },
          "metadata": {
            "needs_background": "light"
          }
        }
      ],
      "source": [
        "# let's explore the importance of the features\n",
        "# the importance is given by the absolute value of the coefficient\n",
        "# assigned by the Lasso\n",
        "\n",
        "importance = pd.Series(np.abs(house_pipe1.named_steps['lasso'].coef_))\n",
        "importance.index = list(final_columns)+['LotFrontage_na', 'MasVnrArea_na',  'GarageYrBlt_na']\n",
        "importance.sort_values(inplace=True, ascending=False)\n",
        "importance.plot.bar(figsize=(18,6))"
      ]
    },
    {
      "cell_type": "code",
      "execution_count": null,
      "metadata": {
        "id": "qlDEGv1Qyf4a"
      },
      "outputs": [],
      "source": [
        ""
      ]
    }
  ],
  "metadata": {
    "kernelspec": {
      "display_name": "feml",
      "language": "python",
      "name": "feml"
    },
    "language_info": {
      "codemirror_mode": {
        "name": "ipython",
        "version": 3
      },
      "file_extension": ".py",
      "mimetype": "text/x-python",
      "name": "python",
      "nbconvert_exporter": "python",
      "pygments_lexer": "ipython3",
      "version": "3.8.2"
    },
    "toc": {
      "base_numbering": 1,
      "nav_menu": {},
      "number_sections": true,
      "sideBar": true,
      "skip_h1_title": false,
      "title_cell": "Table of Contents",
      "title_sidebar": "Contents",
      "toc_cell": false,
      "toc_position": {
        "height": "583px",
        "left": "0px",
        "right": "1324px",
        "top": "107px",
        "width": "212px"
      },
      "toc_section_display": "block",
      "toc_window_display": true
    },
    "colab": {
      "name": "13-Assignement.ipynb",
      "provenance": [],
      "collapsed_sections": []
    }
  },
  "nbformat": 4,
  "nbformat_minor": 0
}